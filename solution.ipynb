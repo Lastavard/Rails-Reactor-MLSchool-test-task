{
 "cells": [
  {
   "cell_type": "code",
   "execution_count": null,
   "metadata": {},
   "outputs": [],
   "source": [
    "# Based on https://github.com/moondra2017/Computer-Vision\n",
    "# Key differences:\n",
    "# - works on standard Python libraries, NumPy and Pillow\n",
    "# - modified to meet the requirements of Rails Reactor MLSchool test task\n",
    "# More information in documentation.ipynb\n",
    "\n",
    "import numpy as np\n",
    "from PIL import Image\n",
    "import itertools\n",
    "import os\n",
    "import sys\n"
   ]
  },
  {
   "cell_type": "code",
   "execution_count": null,
   "metadata": {},
   "outputs": [],
   "source": [
    "#takes one image file per iteration and feeds it to resize_and_gray, intensity_diff, difference_score \n",
    "#functions, returns ds_dict dictionary which contains file names and processed data from these files, \n",
    "#also return empty list duplicates needed in final_result function\n",
    "def difference_score_dict(image_list):\n",
    "    ds_dict = {}\n",
    "    duplicates = []\n",
    "    for image in image_list:\n",
    "        ds = difference_score(image)\n",
    "        \n",
    "        if image not in ds_dict:\n",
    "            ds_dict[image] = ds\n",
    "        else:\n",
    "            duplicates.append((image, ds_dict[image]) )\n",
    "    \n",
    "    return  duplicates, ds_dict"
   ]
  },
  {
   "cell_type": "code",
   "execution_count": null,
   "metadata": {},
   "outputs": [],
   "source": [
    "#puts resize_and_gray and intensity_diff functions together. Returns 1-d array of ones and zeros.\n",
    "def difference_score(image, height = 30, width = 30):\n",
    "    row_res, col_res =  resize_and_gray(image, height, width)\n",
    "    difference = intensity_diff(row_res, col_res)\n",
    "    return difference"
   ]
  },
  {
   "cell_type": "code",
   "execution_count": null,
   "metadata": {},
   "outputs": [],
   "source": [
    "#calculates intensity difference, creating a boolean type array representing the 'footprint'\n",
    "#of what was the image file before. Returns 1-d array of ones and zeros.\n",
    "def intensity_diff(row_res, col_res):\n",
    "    difference_row = np.diff(row_res)\n",
    "    difference_col = np.diff(col_res)\n",
    "    difference_row = difference_row > 0\n",
    "    difference_col = difference_col > 0\n",
    "    return np.vstack((difference_row, difference_col)).flatten()"
   ]
  },
  {
   "cell_type": "code",
   "execution_count": null,
   "metadata": {},
   "outputs": [],
   "source": [
    "#opens image file, turns it to gray scale and flattens column-vise and row-vise, returns two 1-d arrays \n",
    "def resize_and_gray(image, height=30, width=30):\n",
    "    a = np.average(Image.open(image), weights=[0.299, 0.587, 0.114], axis=2)\n",
    "    a.resize(height, width)\n",
    "    row_res = a.flatten()\n",
    "    col_res = a.flatten('F')\n",
    "    return row_res, col_res"
   ]
  },
  {
   "cell_type": "code",
   "execution_count": null,
   "metadata": {},
   "outputs": [],
   "source": [
    "#calculates the hamming distance between given pair of arrays, returns a float number from 0.0 to 1.0, \n",
    "#representing how similar these array are\n",
    "def hamming_distance(image, image2):\n",
    "    u_ne_v = image != image2\n",
    "    return np.average(u_ne_v)"
   ]
  },
  {
   "cell_type": "code",
   "execution_count": 32,
   "metadata": {},
   "outputs": [],
   "source": [
    "#puts everything together and prints out the result\n",
    "def final_result(image_files):\n",
    "    duplicates, ds_dict =difference_score_dict(image_files)\n",
    "    print(duplicates)\n",
    "    n = 0\n",
    "    for k1,k2 in itertools.combinations(ds_dict, 2):\n",
    "        n+=1\n",
    "        print(n, hamming_distance(ds_dict[k1], ds_dict[k2]))\n",
    "        print(k1, k2)\n",
    "        print(ds_dict[k1])\n",
    "    #if hamming_distance(ds_dict[k1], ds_dict[k2])< .0482:\n",
    "        if hamming_distance(ds_dict[k1], ds_dict[k2])< .333:\n",
    "            duplicates.append((k1,k2))\n",
    "    for i in duplicates:\n",
    "        print(i[1],i[0])"
   ]
  },
  {
   "cell_type": "code",
   "execution_count": null,
   "metadata": {},
   "outputs": [],
   "source": [
    "#IMAGE_DIR = 'C:\\\\Users\\\\Max\\\\Downloads\\\\dev_dataset\\\\dev_dataset'\n",
    "#bunch of if statements handling startup arguments\n",
    "if len(sys.argv) == 1:\n",
    "    print('error: the following arguments are required: --path')\n",
    "    sys.exit()\n",
    "elif sys.argv[1] == '--help' ot '-h':\n",
    "    print('''optional arguments:\n",
    "    -h, --help            show this help message and exit\n",
    "    --path PATH           folder with images''')\n",
    "    sys.exit()\n",
    "else:\n",
    "    IMAGE_DIR = sys.argv[1][2:]\n",
    "    os.chdir(IMAGE_DIR)\n",
    "    print(os.getcwd())\n",
    "    image_files = os.listdir()\n",
    "    print(len(image_files))\n",
    "    final_result(image_files)"
   ]
  },
  {
   "cell_type": "code",
   "execution_count": null,
   "metadata": {},
   "outputs": [],
   "source": []
  },
  {
   "cell_type": "code",
   "execution_count": null,
   "metadata": {},
   "outputs": [],
   "source": []
  },
  {
   "cell_type": "code",
   "execution_count": null,
   "metadata": {},
   "outputs": [],
   "source": []
  },
  {
   "cell_type": "code",
   "execution_count": null,
   "metadata": {},
   "outputs": [],
   "source": []
  }
 ],
 "metadata": {
  "kernelspec": {
   "display_name": "Python 3",
   "language": "python",
   "name": "python3"
  },
  "language_info": {
   "codemirror_mode": {
    "name": "ipython",
    "version": 3
   },
   "file_extension": ".py",
   "mimetype": "text/x-python",
   "name": "python",
   "nbconvert_exporter": "python",
   "pygments_lexer": "ipython3",
   "version": "3.6.7"
  }
 },
 "nbformat": 4,
 "nbformat_minor": 2
}
